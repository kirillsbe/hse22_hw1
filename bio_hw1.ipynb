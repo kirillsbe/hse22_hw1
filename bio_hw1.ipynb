{
  "nbformat": 4,
  "nbformat_minor": 0,
  "metadata": {
    "colab": {
      "provenance": [],
      "collapsed_sections": []
    },
    "kernelspec": {
      "name": "python3",
      "display_name": "Python 3"
    },
    "language_info": {
      "name": "python"
    }
  },
  "cells": [
    {
      "cell_type": "code",
      "metadata": {
        "id": "kqcA9MdPgGI6"
      },
      "source": [
        "import re\n",
        "import numpy as np"
      ],
      "execution_count": 1,
      "outputs": []
    },
    {
      "cell_type": "code",
      "metadata": {
        "id": "PLY3CkpSfmda"
      },
      "source": [
        "def count_contigs(contig):\n",
        "  i=0\n",
        "  for line in contig:\n",
        "    if re.search('^>', line):\n",
        "        i+=1\n",
        "  return i"
      ],
      "execution_count": 2,
      "outputs": []
    },
    {
      "cell_type": "code",
      "metadata": {
        "id": "siZMyAFPhfQk"
      },
      "source": [
        "def total_contigs(contig):\n",
        "  sum=0\n",
        "  for line in contig:\n",
        "    if re.search('^>', line):\n",
        "      found=re.search('len(.+?)_', line)\n",
        "      sum+=int(found.group(1))\n",
        "  return sum"
      ],
      "execution_count": 3,
      "outputs": []
    },
    {
      "cell_type": "code",
      "metadata": {
        "id": "rk69a8YgmAIt"
      },
      "source": [
        "def max_contigs(contig):\n",
        "  max=0\n",
        "  for line in contig:\n",
        "    if re.search('^>', line):\n",
        "      found=re.search('len(.+?)_', line)\n",
        "      if int(found.group(1))>max:\n",
        "        max=int(found.group(1))\n",
        "  return max"
      ],
      "execution_count": 4,
      "outputs": []
    },
    {
      "cell_type": "code",
      "metadata": {
        "id": "mlKNKRe9teqQ"
      },
      "source": [
        "def Longest(contig):\n",
        "  lines=list()\n",
        "  for line in contig:\n",
        "    if re.search('^>', line):\n",
        "      found=re.search('len(.+?)_', line)\n",
        "      lines.append(int(found.group(1)))\n",
        "  lines=np.asarray(lines)\n",
        "  total=lines.sum()\n",
        "  lines=np.sort(lines)\n",
        "  lines=np.flip(lines)\n",
        "  print(lines[0])"
      ],
      "execution_count": 5,
      "outputs": []
    },
    {
      "cell_type": "code",
      "metadata": {
        "id": "Rs4FxtNg5qh2"
      },
      "source": [
        "def N50(contig):\n",
        "  lines=list()\n",
        "  for line in contig:\n",
        "    if re.search('^>', line):\n",
        "      found=re.search('len(.+?)_', line)\n",
        "      lines.append(int(found.group(1)))\n",
        "  lines=np.asarray(lines)\n",
        "  total=lines.sum()\n",
        "  lines=np.sort(lines)\n",
        "  lines=np.flip(lines)\n",
        "  n50=0\n",
        "  sum=0\n",
        "  i=0\n",
        "  while sum<total/2.0:\n",
        "    n50=lines[i]\n",
        "    sum+=lines[i]\n",
        "    i+=1\n",
        "  return n50"
      ],
      "execution_count": 6,
      "outputs": []
    },
    {
      "cell_type": "code",
      "metadata": {
        "id": "XA-H9HoX_Xhb"
      },
      "source": [
        "def find_gaps(contig):\n",
        "    return len(re.findall(\"N+\", contig[1]))"
      ],
      "execution_count": 7,
      "outputs": []
    },
    {
      "cell_type": "code",
      "metadata": {
        "id": "iSn-Qn0OA47I"
      },
      "source": [
        "def gap_length(contig):\n",
        "    gaps=re.findall(\"N+\", contig[1])\n",
        "    sum=0\n",
        "    for gap in gaps:\n",
        "      sum+=len(gap)\n",
        "    return sum"
      ],
      "execution_count": 8,
      "outputs": []
    },
    {
      "cell_type": "markdown",
      "metadata": {
        "id": "R_2lzy4twWSI"
      },
      "source": [
        "#contings"
      ]
    },
    {
      "cell_type": "code",
      "metadata": {
        "id": "0IvsY86t4skH",
        "colab": {
          "base_uri": "https://localhost:8080/"
        },
        "outputId": "ce198d05-9841-41b4-a5db-aa735f8aaf56"
      },
      "source": [
        "with open('/content/Poil_contig.fa') as f:\n",
        "  contig=f.readlines()\n",
        "  print(f'Число контигов: {count_contigs(contig)}')\n",
        "  print(f'Суммарная длина контигов: {total_contigs(contig)}')\n",
        "  print(f'Максимальная длина контига: {max_contigs(contig)}')\n",
        "  print(f'N50: {N50(contig)}')"
      ],
      "execution_count": 10,
      "outputs": [
        {
          "output_type": "stream",
          "name": "stdout",
          "text": [
            "Число контигов: 611\n",
            "Суммарная длина контигов: 3925671\n",
            "Максимальная длина контига: 179307\n",
            "N50: 54904\n"
          ]
        }
      ]
    },
    {
      "cell_type": "markdown",
      "metadata": {
        "id": "3AyWJHc5wuc-"
      },
      "source": [
        "#scaffolds"
      ]
    },
    {
      "cell_type": "code",
      "metadata": {
        "id": "5uBHRSrewyTm",
        "colab": {
          "base_uri": "https://localhost:8080/"
        },
        "outputId": "f1197b60-c0e8-43c6-a38c-a4fcf0136b69"
      },
      "source": [
        "with open('/content/Poil_scaffold.fa') as f:\n",
        "  contig=f.readlines()\n",
        "  print(f'Число скаффолдов: {count_contigs(contig)}')\n",
        "  print(f'Суммарная длина скаффолдов: {total_contigs(contig)}')\n",
        "  print(f'Максимальная длина скаффолда: {max_contigs(contig)}')\n",
        "  print(f'N50: {N50(contig)}')"
      ],
      "execution_count": 11,
      "outputs": [
        {
          "output_type": "stream",
          "name": "stdout",
          "text": [
            "Число скаффолдов: 67\n",
            "Суммарная длина скаффолдов: 3875513\n",
            "Максимальная длина скаффолда: 3834389\n",
            "N50: 3834389\n"
          ]
        }
      ]
    },
    {
      "cell_type": "markdown",
      "metadata": {
        "id": "o_UzXoJH7z7h"
      },
      "source": [
        "#longest scaffold"
      ]
    },
    {
      "cell_type": "code",
      "metadata": {
        "id": "Xh1UxRhj7-uS",
        "colab": {
          "base_uri": "https://localhost:8080/"
        },
        "outputId": "a799b73d-eaa7-4640-a389-54ce3b496d1a"
      },
      "source": [
        "with open('/content/longest_scaffold.fna') as f:\n",
        "  contig=f.readlines()\n",
        "  print(f'Число гэпов: {find_gaps(contig)}')\n",
        "  print(f'Суммарная длина гэпов гэпов: {gap_length(contig)}')"
      ],
      "execution_count": 13,
      "outputs": [
        {
          "output_type": "stream",
          "name": "stdout",
          "text": [
            "Число гэпов: 60\n",
            "Суммарная длина гэпов гэпов: 6034\n"
          ]
        }
      ]
    },
    {
      "cell_type": "markdown",
      "metadata": {
        "id": "Gx_fXcXHWIgO"
      },
      "source": [
        "#longest scaffold(gap close)\n"
      ]
    },
    {
      "cell_type": "code",
      "metadata": {
        "id": "SnT3BSDOWRIa",
        "colab": {
          "base_uri": "https://localhost:8080/"
        },
        "outputId": "996243e1-2899-44b0-f23b-9afb69a32fb5"
      },
      "source": [
        "with open('/content/longest_scaffold_gapclosed.fna') as f:\n",
        "  contig=f.readlines()\n",
        "  print(f'Число гэпов: {find_gaps(contig)}')\n",
        "  print(f'Суммарная длина гэпов гэпов: {gap_length(contig)}')"
      ],
      "execution_count": 14,
      "outputs": [
        {
          "output_type": "stream",
          "name": "stdout",
          "text": [
            "Число гэпов: 8\n",
            "Суммарная длина гэпов гэпов: 1507\n"
          ]
        }
      ]
    }
  ]
}